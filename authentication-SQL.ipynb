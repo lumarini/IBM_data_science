{
 "cells": [
  {
   "cell_type": "code",
   "execution_count": 1,
   "metadata": {},
   "outputs": [],
   "source": [
    "import string\n",
    "import random\n",
    "import pandas as pd\n",
    "import pyodbc"
   ]
  },
  {
   "cell_type": "markdown",
   "metadata": {},
   "source": [
    "1) create usernames using pattern \"GUEST_\", from GUEST_1 to GUEST_99\n"
   ]
  },
  {
   "cell_type": "code",
   "execution_count": 2,
   "metadata": {},
   "outputs": [],
   "source": [
    "username = [f\"Guest_{n}\" for n in range(1, 100)]\n"
   ]
  },
  {
   "cell_type": "markdown",
   "metadata": {},
   "source": [
    "2) generate random password, containing letters and digits, for each username created above\n"
   ]
  },
  {
   "cell_type": "code",
   "execution_count": 3,
   "metadata": {},
   "outputs": [],
   "source": [
    "char = string.ascii_letters + string.digits\n",
    "\n",
    "def pwd_generator():\n",
    "    return \"\".join(random.choices(char, k=6))\n",
    "\n",
    "password = [pwd_generator() for n in range(len(username))]"
   ]
  },
  {
   "cell_type": "markdown",
   "metadata": {},
   "source": [
    "#PATHWAY 1 ----- create Pandas DF and export data as CSV for authentication using SQL database"
   ]
  },
  {
   "cell_type": "markdown",
   "metadata": {},
   "source": [
    "3) create pandas df constituted of each username and password and exporting it to CSV\n",
    "(only for dev purposes - to export to SQL server)\n"
   ]
  },
  {
   "cell_type": "code",
   "execution_count": 4,
   "metadata": {},
   "outputs": [
    {
     "name": "stdout",
     "output_type": "stream",
     "text": [
      "    username password\n",
      "0    Guest_1   1RXGLy\n",
      "1    Guest_2   YaPFrp\n",
      "2    Guest_3   NIiGTh\n",
      "3    Guest_4   ZKhT6n\n",
      "4    Guest_5   nmRK0X\n",
      "..       ...      ...\n",
      "94  Guest_95   fRGTUk\n",
      "95  Guest_96   YTuJMi\n",
      "96  Guest_97   je0VaW\n",
      "97  Guest_98   htAh3l\n",
      "98  Guest_99   21zeoa\n",
      "\n",
      "[99 rows x 2 columns]\n"
     ]
    }
   ],
   "source": [
    "df = pd.DataFrame(data={\"username\": username, \"password\": password})\n",
    "print(df)"
   ]
  },
  {
   "cell_type": "markdown",
   "metadata": {},
   "source": [
    "4) Export df to CSV"
   ]
  },
  {
   "cell_type": "code",
   "execution_count": 6,
   "metadata": {},
   "outputs": [],
   "source": [
    "df.to_csv(\"C:/Users/luci/Desktop/pwd_db2.csv\", sep=',', index=True)"
   ]
  },
  {
   "cell_type": "markdown",
   "metadata": {},
   "source": [
    "#5) Import flat file on SQL database (Azure)\n",
    "\n",
    "\n",
    "#If needed to query database using python:\n",
    "#5.1) Create connection with SQL server (local)"
   ]
  },
  {
   "cell_type": "code",
   "execution_count": 8,
   "metadata": {},
   "outputs": [
    {
     "name": "stdout",
     "output_type": "stream",
     "text": [
      "('0', 'Guest_1', 'CG4nkE')\n",
      "('1', 'Guest_2', 'xgQTxT')\n",
      "('2', 'Guest_3', 'Bl9zon')\n",
      "('3', 'Guest_4', 'lzPion')\n",
      "('4', 'Guest_5', 'chRK2b')\n",
      "('5', 'Guest_6', 'IvO3fy')\n",
      "('6', 'Guest_7', 'bcKNYb')\n",
      "('7', 'Guest_8', 'eva4Le')\n",
      "('8', 'Guest_9', 'n7cEQJ')\n",
      "('9', 'Guest_10', 'K0XwjR')\n",
      "('10', 'Guest_11', 'uP4TP0')\n",
      "('11', 'Guest_12', 'iOdc1R')\n",
      "('12', 'Guest_13', 'v5NsgL')\n",
      "('13', 'Guest_14', 'WUDMNb')\n",
      "('14', 'Guest_15', 'xyZdpW')\n",
      "('15', 'Guest_16', 'tTKcL2')\n",
      "('16', 'Guest_17', 'qwijsi')\n",
      "('17', 'Guest_18', 'X97liK')\n",
      "('18', 'Guest_19', 'Lzm0NH')\n",
      "('19', 'Guest_20', 'okDDbX')\n",
      "('20', 'Guest_21', '64NXY2')\n",
      "('21', 'Guest_22', 'J6B58F')\n",
      "('22', 'Guest_23', '3YnX2F')\n",
      "('23', 'Guest_24', 'YqWETS')\n",
      "('24', 'Guest_25', 'Lk6F9c')\n",
      "('25', 'Guest_26', 'k7h7eN')\n",
      "('26', 'Guest_27', 'ee89nu')\n",
      "('27', 'Guest_28', 'jOTzFY')\n",
      "('28', 'Guest_29', 'T7Z7qQ')\n",
      "('29', 'Guest_30', '5HQnVP')\n",
      "('30', 'Guest_31', 'TB9MoS')\n",
      "('31', 'Guest_32', 'Yo8syu')\n",
      "('32', 'Guest_33', '1HiXmi')\n",
      "('33', 'Guest_34', 'W2w9oK')\n",
      "('34', 'Guest_35', 'SF5DOd')\n",
      "('35', 'Guest_36', 'gHGNaF')\n",
      "('36', 'Guest_37', 'ym4Pwo')\n",
      "('37', 'Guest_38', 'V61Wrq')\n",
      "('38', 'Guest_39', 'QRarvk')\n",
      "('39', 'Guest_40', 'ilbeYJ')\n",
      "('40', 'Guest_41', 'RJinOY')\n",
      "('41', 'Guest_42', 'eN5v24')\n",
      "('42', 'Guest_43', '7xuKhb')\n",
      "('43', 'Guest_44', 'H9XHw3')\n",
      "('44', 'Guest_45', 'ViJWPR')\n",
      "('45', 'Guest_46', '4lIXA0')\n",
      "('46', 'Guest_47', 'zdehaZ')\n",
      "('47', 'Guest_48', '1LnRSC')\n",
      "('48', 'Guest_49', 'nBIts6')\n",
      "('49', 'Guest_50', 'mmGDCr')\n",
      "('50', 'Guest_51', 'W6zFjr')\n",
      "('51', 'Guest_52', 'hQsMqc')\n",
      "('52', 'Guest_53', 'Nb5FT1')\n",
      "('53', 'Guest_54', 'rq81eJ')\n",
      "('54', 'Guest_55', '77LhmF')\n",
      "('55', 'Guest_56', 'paT5OX')\n",
      "('56', 'Guest_57', 'RnHDIe')\n",
      "('57', 'Guest_58', 'scKhqc')\n",
      "('58', 'Guest_59', 'bOeLsB')\n",
      "('59', 'Guest_60', 'Q4rPCy')\n",
      "('60', 'Guest_61', '2f7DJb')\n",
      "('61', 'Guest_62', 'tHZErZ')\n",
      "('62', 'Guest_63', 'OcWWN0')\n",
      "('63', 'Guest_64', 'EGlSCy')\n",
      "('64', 'Guest_65', 'GyquDc')\n",
      "('65', 'Guest_66', 'Tnrqbu')\n",
      "('66', 'Guest_67', '9alfQC')\n",
      "('67', 'Guest_68', 'SKbhOL')\n",
      "('68', 'Guest_69', 'QQZYr3')\n",
      "('69', 'Guest_70', 'FrTdsO')\n",
      "('70', 'Guest_71', 'XQNbFN')\n",
      "('71', 'Guest_72', 'N7g19G')\n",
      "('72', 'Guest_73', 'JJQENh')\n",
      "('73', 'Guest_74', 'rsb2iB')\n",
      "('74', 'Guest_75', 'ugPkyd')\n",
      "('75', 'Guest_76', '9FsHeI')\n",
      "('76', 'Guest_77', 'fLo5ju')\n",
      "('77', 'Guest_78', '9SQtzC')\n",
      "('78', 'Guest_79', 'aM9Dnw')\n",
      "('79', 'Guest_80', '4XBmVT')\n",
      "('80', 'Guest_81', '8gaBbB')\n",
      "('81', 'Guest_82', 'G7VjSd')\n",
      "('82', 'Guest_83', 'mP3LXd')\n",
      "('83', 'Guest_84', 'epqsMu')\n",
      "('84', 'Guest_85', 'VQc61I')\n",
      "('85', 'Guest_86', 'NUjidc')\n",
      "('86', 'Guest_87', 'DU4Il0')\n",
      "('87', 'Guest_88', 'VKvLlz')\n",
      "('88', 'Guest_89', 'nqPj07')\n",
      "('89', 'Guest_90', 'JBx7D3')\n",
      "('90', 'Guest_91', 'sCjvco')\n",
      "('91', 'Guest_92', 'ru8sDD')\n",
      "('92', 'Guest_93', 'nbZ2tA')\n",
      "('93', 'Guest_94', 'zl2ZjH')\n",
      "('94', 'Guest_95', 'Oy0OSQ')\n",
      "('95', 'Guest_96', 'Sa2WQr')\n",
      "('96', 'Guest_97', 'd8QW8v')\n",
      "('97', 'Guest_98', 'TQ8DZg')\n",
      "('98', 'Guest_99', 'HGOFBN')\n"
     ]
    }
   ],
   "source": [
    "conn_string = (r'Driver={SQL Server};'\n",
    "                      r'Server=LUCIANAS-LAPTOP;'\n",
    "                      r'Database=password;'\n",
    "                      r'Trusted_Connection=yes;')\n",
    "\n",
    "conn = pyodbc.connect(conn_string)\n",
    "\n",
    "cursor = conn.cursor()\n",
    "\n",
    "cursor.execute('SELECT * FROM password.dbo.pwd_db2;')\n",
    "\n",
    "for row in cursor:\n",
    "    print(row)"
   ]
  },
  {
   "cell_type": "markdown",
   "metadata": {},
   "source": [
    "5.2) Create connection with cloud SQL server (Azure)"
   ]
  },
  {
   "cell_type": "code",
   "execution_count": 11,
   "metadata": {},
   "outputs": [
    {
     "name": "stdout",
     "output_type": "stream",
     "text": [
      "0 Guest_1\n",
      "1 Guest_2\n",
      "10 Guest_11\n",
      "11 Guest_12\n",
      "12 Guest_13\n",
      "13 Guest_14\n",
      "14 Guest_15\n",
      "15 Guest_16\n",
      "16 Guest_17\n",
      "17 Guest_18\n",
      "18 Guest_19\n",
      "19 Guest_20\n",
      "2 Guest_3\n",
      "20 Guest_21\n",
      "21 Guest_22\n",
      "22 Guest_23\n",
      "23 Guest_24\n",
      "24 Guest_25\n",
      "25 Guest_26\n",
      "26 Guest_27\n",
      "27 Guest_28\n",
      "28 Guest_29\n",
      "29 Guest_30\n",
      "3 Guest_4\n",
      "30 Guest_31\n",
      "31 Guest_32\n",
      "32 Guest_33\n",
      "33 Guest_34\n",
      "34 Guest_35\n",
      "35 Guest_36\n",
      "36 Guest_37\n",
      "37 Guest_38\n",
      "38 Guest_39\n",
      "39 Guest_40\n",
      "4 Guest_5\n",
      "40 Guest_41\n",
      "41 Guest_42\n",
      "42 Guest_43\n",
      "43 Guest_44\n",
      "44 Guest_45\n",
      "45 Guest_46\n",
      "46 Guest_47\n",
      "47 Guest_48\n",
      "48 Guest_49\n",
      "49 Guest_50\n",
      "5 Guest_6\n",
      "50 Guest_51\n",
      "51 Guest_52\n",
      "52 Guest_53\n",
      "53 Guest_54\n",
      "54 Guest_55\n",
      "55 Guest_56\n",
      "56 Guest_57\n",
      "57 Guest_58\n",
      "58 Guest_59\n",
      "59 Guest_60\n",
      "6 Guest_7\n",
      "60 Guest_61\n",
      "61 Guest_62\n",
      "62 Guest_63\n",
      "63 Guest_64\n",
      "64 Guest_65\n",
      "65 Guest_66\n",
      "66 Guest_67\n",
      "67 Guest_68\n",
      "68 Guest_69\n",
      "69 Guest_70\n",
      "7 Guest_8\n",
      "70 Guest_71\n",
      "71 Guest_72\n",
      "72 Guest_73\n",
      "73 Guest_74\n",
      "74 Guest_75\n",
      "75 Guest_76\n",
      "76 Guest_77\n",
      "77 Guest_78\n",
      "78 Guest_79\n",
      "79 Guest_80\n",
      "8 Guest_9\n",
      "80 Guest_81\n",
      "81 Guest_82\n",
      "82 Guest_83\n",
      "83 Guest_84\n",
      "84 Guest_85\n",
      "85 Guest_86\n",
      "86 Guest_87\n",
      "87 Guest_88\n",
      "88 Guest_89\n",
      "89 Guest_90\n",
      "9 Guest_10\n",
      "90 Guest_91\n",
      "91 Guest_92\n",
      "92 Guest_93\n",
      "93 Guest_94\n",
      "94 Guest_95\n",
      "95 Guest_96\n",
      "96 Guest_97\n",
      "97 Guest_98\n",
      "98 Guest_99\n"
     ]
    }
   ],
   "source": [
    "server = 'authsqlserver20091986.database.windows.net'\n",
    "database = 'authDB'\n",
    "username = 'lumarini'\n",
    "password = '{Tequila123*}'\n",
    "driver= '{ODBC Driver 17 for SQL Server}'\n",
    "\n",
    "with pyodbc.connect('DRIVER='+driver+';SERVER=tcp:'+server+';PORT=1433;DATABASE='+database+';UID='+username+';PWD='+ password) as conn:\n",
    "    with conn.cursor() as cursor:\n",
    "        cursor.execute(\"SELECT * FROM [dbo].[pwd_db2]\")\n",
    "        row = cursor.fetchone()\n",
    "        while row:\n",
    "            print (str(row[0]) + \" \" + str(row[1]))\n",
    "            row = cursor.fetchone()"
   ]
  },
  {
   "cell_type": "code",
   "execution_count": null,
   "metadata": {},
   "outputs": [],
   "source": []
  }
 ],
 "metadata": {
  "kernelspec": {
   "display_name": "Python 3",
   "language": "python",
   "name": "python3"
  },
  "language_info": {
   "codemirror_mode": {
    "name": "ipython",
    "version": 3
   },
   "file_extension": ".py",
   "mimetype": "text/x-python",
   "name": "python",
   "nbconvert_exporter": "python",
   "pygments_lexer": "ipython3",
   "version": "3.8.5"
  }
 },
 "nbformat": 4,
 "nbformat_minor": 4
}

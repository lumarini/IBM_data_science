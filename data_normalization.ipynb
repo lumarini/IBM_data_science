{
 "cells": [
  {
   "cell_type": "markdown",
   "metadata": {},
   "source": [
    "Data Normalization snippets:\n",
    "Given a mock table of ages and salaries, open table as a panda df and create new columns with normalized data, \n",
    "using Simple Feature Scaling, Min/Max and Z-Score (standard score)."
   ]
  },
  {
   "cell_type": "code",
   "execution_count": 2,
   "metadata": {},
   "outputs": [
    {
     "name": "stdout",
     "output_type": "stream",
     "text": [
      "ï»¿age,salary\n",
      "20,20000\n",
      "22,22000\n",
      "35,100000\n",
      "42,200000\n",
      "50,50000\n",
      "29,80000\n",
      "31,33000\n",
      "37,24000\n",
      "46,36000\n",
      "34,92000\n",
      "21,23000\n",
      "26,19000\n",
      "36,25000\n",
      "41,28000\n",
      "49,32000\n",
      "30,20000\n",
      "\n"
     ]
    }
   ],
   "source": [
    "file = open(\"/Users/luci/Desktop/age_salary.csv\")\n",
    "print(file.read())"
   ]
  },
  {
   "cell_type": "code",
   "execution_count": 3,
   "metadata": {},
   "outputs": [
    {
     "name": "stdout",
     "output_type": "stream",
     "text": [
      "    age  salary\n",
      "0    20   20000\n",
      "1    22   22000\n",
      "2    35  100000\n",
      "3    42  200000\n",
      "4    50   50000\n",
      "5    29   80000\n",
      "6    31   33000\n",
      "7    37   24000\n",
      "8    46   36000\n",
      "9    34   92000\n",
      "10   21   23000\n",
      "11   26   19000\n",
      "12   36   25000\n",
      "13   41   28000\n",
      "14   49   32000\n",
      "15   30   20000\n"
     ]
    }
   ],
   "source": [
    "import pandas as pd\n",
    "\n",
    "df = pd.read_csv(\"/Users/luci/Desktop/age_salary.csv\")\n",
    "print(df)"
   ]
  },
  {
   "cell_type": "code",
   "execution_count": 4,
   "metadata": {},
   "outputs": [
    {
     "name": "stdout",
     "output_type": "stream",
     "text": [
      "<class 'pandas.core.frame.DataFrame'>\n",
      "RangeIndex: 16 entries, 0 to 15\n",
      "Data columns (total 2 columns):\n",
      " #   Column  Non-Null Count  Dtype\n",
      "---  ------  --------------  -----\n",
      " 0   age     16 non-null     int64\n",
      " 1   salary  16 non-null     int64\n",
      "dtypes: int64(2)\n",
      "memory usage: 384.0 bytes\n"
     ]
    }
   ],
   "source": [
    "df.info()"
   ]
  },
  {
   "cell_type": "code",
   "execution_count": 5,
   "metadata": {},
   "outputs": [
    {
     "data": {
      "text/plain": [
       "['age', 'salary']"
      ]
     },
     "execution_count": 5,
     "metadata": {},
     "output_type": "execute_result"
    }
   ],
   "source": [
    "list(df.columns)"
   ]
  },
  {
   "cell_type": "code",
   "execution_count": 6,
   "metadata": {},
   "outputs": [
    {
     "data": {
      "text/html": [
       "<div>\n",
       "<style scoped>\n",
       "    .dataframe tbody tr th:only-of-type {\n",
       "        vertical-align: middle;\n",
       "    }\n",
       "\n",
       "    .dataframe tbody tr th {\n",
       "        vertical-align: top;\n",
       "    }\n",
       "\n",
       "    .dataframe thead th {\n",
       "        text-align: right;\n",
       "    }\n",
       "</style>\n",
       "<table border=\"1\" class=\"dataframe\">\n",
       "  <thead>\n",
       "    <tr style=\"text-align: right;\">\n",
       "      <th></th>\n",
       "      <th>age</th>\n",
       "      <th>salary</th>\n",
       "    </tr>\n",
       "  </thead>\n",
       "  <tbody>\n",
       "    <tr>\n",
       "      <th>count</th>\n",
       "      <td>16.00000</td>\n",
       "      <td>16.000000</td>\n",
       "    </tr>\n",
       "    <tr>\n",
       "      <th>mean</th>\n",
       "      <td>34.31250</td>\n",
       "      <td>50250.000000</td>\n",
       "    </tr>\n",
       "    <tr>\n",
       "      <th>std</th>\n",
       "      <td>9.56883</td>\n",
       "      <td>47979.856885</td>\n",
       "    </tr>\n",
       "    <tr>\n",
       "      <th>min</th>\n",
       "      <td>20.00000</td>\n",
       "      <td>19000.000000</td>\n",
       "    </tr>\n",
       "    <tr>\n",
       "      <th>25%</th>\n",
       "      <td>28.25000</td>\n",
       "      <td>22750.000000</td>\n",
       "    </tr>\n",
       "    <tr>\n",
       "      <th>50%</th>\n",
       "      <td>34.50000</td>\n",
       "      <td>30000.000000</td>\n",
       "    </tr>\n",
       "    <tr>\n",
       "      <th>75%</th>\n",
       "      <td>41.25000</td>\n",
       "      <td>57500.000000</td>\n",
       "    </tr>\n",
       "    <tr>\n",
       "      <th>max</th>\n",
       "      <td>50.00000</td>\n",
       "      <td>200000.000000</td>\n",
       "    </tr>\n",
       "  </tbody>\n",
       "</table>\n",
       "</div>"
      ],
      "text/plain": [
       "            age         salary\n",
       "count  16.00000      16.000000\n",
       "mean   34.31250   50250.000000\n",
       "std     9.56883   47979.856885\n",
       "min    20.00000   19000.000000\n",
       "25%    28.25000   22750.000000\n",
       "50%    34.50000   30000.000000\n",
       "75%    41.25000   57500.000000\n",
       "max    50.00000  200000.000000"
      ]
     },
     "execution_count": 6,
     "metadata": {},
     "output_type": "execute_result"
    }
   ],
   "source": [
    "df.describe()"
   ]
  },
  {
   "cell_type": "markdown",
   "metadata": {},
   "source": [
    "Data Normalization: put different variables casted in different ranges into ranges of similar value, so they will have similar impact when in linear regression"
   ]
  },
  {
   "cell_type": "markdown",
   "metadata": {},
   "source": [
    "1. Simple feature scaling: new value = old value / max value"
   ]
  },
  {
   "cell_type": "code",
   "execution_count": 7,
   "metadata": {},
   "outputs": [
    {
     "name": "stdout",
     "output_type": "stream",
     "text": [
      "    age  salary\n",
      "0    20   20000\n",
      "1    22   22000\n",
      "2    35  100000\n",
      "3    42  200000\n",
      "4    50   50000\n",
      "5    29   80000\n",
      "6    31   33000\n",
      "7    37   24000\n",
      "8    46   36000\n",
      "9    34   92000\n",
      "10   21   23000\n",
      "11   26   19000\n",
      "12   36   25000\n",
      "13   41   28000\n",
      "14   49   32000\n",
      "15   30   20000\n"
     ]
    }
   ],
   "source": [
    "sfs_df = df.copy()  #Firstly, create a copy of the df with the prefix sfs_, standing for simple feature scalling\n",
    "print(sfs_df) # Print copy to see if everything's copied just fine"
   ]
  },
  {
   "cell_type": "code",
   "execution_count": 8,
   "metadata": {},
   "outputs": [
    {
     "name": "stdout",
     "output_type": "stream",
     "text": [
      "    age  salary  age_normalized  salary_normalized\n",
      "0    20   20000            0.40              0.100\n",
      "1    22   22000            0.44              0.110\n",
      "2    35  100000            0.70              0.500\n",
      "3    42  200000            0.84              1.000\n",
      "4    50   50000            1.00              0.250\n",
      "5    29   80000            0.58              0.400\n",
      "6    31   33000            0.62              0.165\n",
      "7    37   24000            0.74              0.120\n",
      "8    46   36000            0.92              0.180\n",
      "9    34   92000            0.68              0.460\n",
      "10   21   23000            0.42              0.115\n",
      "11   26   19000            0.52              0.095\n",
      "12   36   25000            0.72              0.125\n",
      "13   41   28000            0.82              0.140\n",
      "14   49   32000            0.98              0.160\n",
      "15   30   20000            0.60              0.100\n"
     ]
    }
   ],
   "source": [
    "#create neu columns age_normalized and salary_normalized using the sfs formula:\n",
    "\n",
    "sfs_df[\"age_normalized\"] = sfs_df[\"age\"]/sfs_df[\"age\"].max() \n",
    "sfs_df[\"salary_normalized\"] = sfs_df[\"salary\"]/sfs_df[\"salary\"].max()\n",
    "print(sfs_df)   #Print df with the 2 new columns. The 2 new colums must have values that range from 0 to 1."
   ]
  },
  {
   "cell_type": "code",
   "execution_count": 9,
   "metadata": {},
   "outputs": [
    {
     "name": "stdout",
     "output_type": "stream",
     "text": [
      "    age_normalized  salary_normalized\n",
      "0             0.40              0.100\n",
      "1             0.44              0.110\n",
      "2             0.70              0.500\n",
      "3             0.84              1.000\n",
      "4             1.00              0.250\n",
      "5             0.58              0.400\n",
      "6             0.62              0.165\n",
      "7             0.74              0.120\n",
      "8             0.92              0.180\n",
      "9             0.68              0.460\n",
      "10            0.42              0.115\n",
      "11            0.52              0.095\n",
      "12            0.72              0.125\n",
      "13            0.82              0.140\n",
      "14            0.98              0.160\n",
      "15            0.60              0.100\n"
     ]
    }
   ],
   "source": [
    "#get rid of the old columns so we may run .describe() again\n",
    "sfs_df.drop(['age', 'salary'], axis=1, inplace = True)\n",
    "print(sfs_df)"
   ]
  },
  {
   "cell_type": "code",
   "execution_count": 10,
   "metadata": {},
   "outputs": [
    {
     "data": {
      "text/plain": [
       "(       age_normalized  salary_normalized\n",
       " count       16.000000          16.000000\n",
       " mean         0.686250           0.251250\n",
       " std          0.191377           0.239899\n",
       " min          0.400000           0.095000\n",
       " 25%          0.565000           0.113750\n",
       " 50%          0.690000           0.150000\n",
       " 75%          0.825000           0.287500\n",
       " max          1.000000           1.000000,\n",
       "             age         salary\n",
       " count  16.00000      16.000000\n",
       " mean   34.31250   50250.000000\n",
       " std     9.56883   47979.856885\n",
       " min    20.00000   19000.000000\n",
       " 25%    28.25000   22750.000000\n",
       " 50%    34.50000   30000.000000\n",
       " 75%    41.25000   57500.000000\n",
       " max    50.00000  200000.000000)"
      ]
     },
     "execution_count": 10,
     "metadata": {},
     "output_type": "execute_result"
    }
   ],
   "source": [
    "#Compare sfs_df.describe() vs original df.describe()\n",
    "\n",
    "sfs_df.describe(), df.describe()"
   ]
  },
  {
   "cell_type": "markdown",
   "metadata": {},
   "source": [
    "2. Min/Max = new_value = (old value - min value) / (max value - min value)"
   ]
  },
  {
   "cell_type": "code",
   "execution_count": 11,
   "metadata": {},
   "outputs": [
    {
     "name": "stdout",
     "output_type": "stream",
     "text": [
      "    age  salary\n",
      "0    20   20000\n",
      "1    22   22000\n",
      "2    35  100000\n",
      "3    42  200000\n",
      "4    50   50000\n",
      "5    29   80000\n",
      "6    31   33000\n",
      "7    37   24000\n",
      "8    46   36000\n",
      "9    34   92000\n",
      "10   21   23000\n",
      "11   26   19000\n",
      "12   36   25000\n",
      "13   41   28000\n",
      "14   49   32000\n",
      "15   30   20000\n"
     ]
    }
   ],
   "source": [
    "minmax_df = df.copy() #Same as above, create a new copy of the dataframe, and\n",
    "print(minmax_df)      # print it to check if it's alright"
   ]
  },
  {
   "cell_type": "code",
   "execution_count": 12,
   "metadata": {},
   "outputs": [
    {
     "name": "stdout",
     "output_type": "stream",
     "text": [
      "    age  salary  age_normalized  salary_normalized\n",
      "0    20   20000        0.000000           0.005525\n",
      "1    22   22000        0.066667           0.016575\n",
      "2    35  100000        0.500000           0.447514\n",
      "3    42  200000        0.733333           1.000000\n",
      "4    50   50000        1.000000           0.171271\n",
      "5    29   80000        0.300000           0.337017\n",
      "6    31   33000        0.366667           0.077348\n",
      "7    37   24000        0.566667           0.027624\n",
      "8    46   36000        0.866667           0.093923\n",
      "9    34   92000        0.466667           0.403315\n",
      "10   21   23000        0.033333           0.022099\n",
      "11   26   19000        0.200000           0.000000\n",
      "12   36   25000        0.533333           0.033149\n",
      "13   41   28000        0.700000           0.049724\n",
      "14   49   32000        0.966667           0.071823\n",
      "15   30   20000        0.333333           0.005525\n"
     ]
    }
   ],
   "source": [
    "#now, create 2 new columns on this df with the normalized values using minmax formula\n",
    "\n",
    "minmax_df[\"age_normalized\"] = (minmax_df[\"age\"]-minmax_df[\"age\"].min()) / (minmax_df[\"age\"].max()-minmax_df[\"age\"].min())\n",
    "minmax_df[\"salary_normalized\"] = (minmax_df[\"salary\"]-minmax_df[\"salary\"].min()) / (minmax_df[\"salary\"].max()-minmax_df[\"salary\"].min())\n",
    "\n",
    "print(minmax_df) #Print to see the results"
   ]
  },
  {
   "cell_type": "code",
   "execution_count": 13,
   "metadata": {},
   "outputs": [
    {
     "data": {
      "text/html": [
       "<div>\n",
       "<style scoped>\n",
       "    .dataframe tbody tr th:only-of-type {\n",
       "        vertical-align: middle;\n",
       "    }\n",
       "\n",
       "    .dataframe tbody tr th {\n",
       "        vertical-align: top;\n",
       "    }\n",
       "\n",
       "    .dataframe thead th {\n",
       "        text-align: right;\n",
       "    }\n",
       "</style>\n",
       "<table border=\"1\" class=\"dataframe\">\n",
       "  <thead>\n",
       "    <tr style=\"text-align: right;\">\n",
       "      <th></th>\n",
       "      <th>age</th>\n",
       "      <th>salary</th>\n",
       "      <th>age_normalized</th>\n",
       "      <th>salary_normalized</th>\n",
       "    </tr>\n",
       "  </thead>\n",
       "  <tbody>\n",
       "    <tr>\n",
       "      <th>count</th>\n",
       "      <td>16.00000</td>\n",
       "      <td>16.000000</td>\n",
       "      <td>16.000000</td>\n",
       "      <td>16.000000</td>\n",
       "    </tr>\n",
       "    <tr>\n",
       "      <th>mean</th>\n",
       "      <td>34.31250</td>\n",
       "      <td>50250.000000</td>\n",
       "      <td>0.477083</td>\n",
       "      <td>0.172652</td>\n",
       "    </tr>\n",
       "    <tr>\n",
       "      <th>std</th>\n",
       "      <td>9.56883</td>\n",
       "      <td>47979.856885</td>\n",
       "      <td>0.318961</td>\n",
       "      <td>0.265082</td>\n",
       "    </tr>\n",
       "    <tr>\n",
       "      <th>min</th>\n",
       "      <td>20.00000</td>\n",
       "      <td>19000.000000</td>\n",
       "      <td>0.000000</td>\n",
       "      <td>0.000000</td>\n",
       "    </tr>\n",
       "    <tr>\n",
       "      <th>25%</th>\n",
       "      <td>28.25000</td>\n",
       "      <td>22750.000000</td>\n",
       "      <td>0.275000</td>\n",
       "      <td>0.020718</td>\n",
       "    </tr>\n",
       "    <tr>\n",
       "      <th>50%</th>\n",
       "      <td>34.50000</td>\n",
       "      <td>30000.000000</td>\n",
       "      <td>0.483333</td>\n",
       "      <td>0.060773</td>\n",
       "    </tr>\n",
       "    <tr>\n",
       "      <th>75%</th>\n",
       "      <td>41.25000</td>\n",
       "      <td>57500.000000</td>\n",
       "      <td>0.708333</td>\n",
       "      <td>0.212707</td>\n",
       "    </tr>\n",
       "    <tr>\n",
       "      <th>max</th>\n",
       "      <td>50.00000</td>\n",
       "      <td>200000.000000</td>\n",
       "      <td>1.000000</td>\n",
       "      <td>1.000000</td>\n",
       "    </tr>\n",
       "  </tbody>\n",
       "</table>\n",
       "</div>"
      ],
      "text/plain": [
       "            age         salary  age_normalized  salary_normalized\n",
       "count  16.00000      16.000000       16.000000          16.000000\n",
       "mean   34.31250   50250.000000        0.477083           0.172652\n",
       "std     9.56883   47979.856885        0.318961           0.265082\n",
       "min    20.00000   19000.000000        0.000000           0.000000\n",
       "25%    28.25000   22750.000000        0.275000           0.020718\n",
       "50%    34.50000   30000.000000        0.483333           0.060773\n",
       "75%    41.25000   57500.000000        0.708333           0.212707\n",
       "max    50.00000  200000.000000        1.000000           1.000000"
      ]
     },
     "execution_count": 13,
     "metadata": {},
     "output_type": "execute_result"
    }
   ],
   "source": [
    "minmax_df.describe() #Lastly, call the .describe() method to print to compare "
   ]
  },
  {
   "cell_type": "markdown",
   "metadata": {},
   "source": [
    "3. Z-Score or Standard score: newvalue = old value - mean / standard deviation"
   ]
  },
  {
   "cell_type": "code",
   "execution_count": 14,
   "metadata": {},
   "outputs": [
    {
     "name": "stdout",
     "output_type": "stream",
     "text": [
      "    age  salary\n",
      "0    20   20000\n",
      "1    22   22000\n",
      "2    35  100000\n",
      "3    42  200000\n",
      "4    50   50000\n",
      "5    29   80000\n",
      "6    31   33000\n",
      "7    37   24000\n",
      "8    46   36000\n",
      "9    34   92000\n",
      "10   21   23000\n",
      "11   26   19000\n",
      "12   36   25000\n",
      "13   41   28000\n",
      "14   49   32000\n",
      "15   30   20000\n"
     ]
    }
   ],
   "source": [
    "z_score_df = df.copy() #Same as above, create a new copy of the dataframe, and\n",
    "print(z_score_df)      # print it to check if it's alright"
   ]
  },
  {
   "cell_type": "code",
   "execution_count": 15,
   "metadata": {},
   "outputs": [
    {
     "name": "stdout",
     "output_type": "stream",
     "text": [
      "    age  salary  age_normalized  salary_normalized\n",
      "0    20   20000       -1.495742          -0.630473\n",
      "1    22   22000       -1.286730          -0.588789\n",
      "2    35  100000        0.071848           1.036893\n",
      "3    42  200000        0.803390           3.121101\n",
      "4    50   50000        1.639438          -0.005211\n",
      "5    29   80000       -0.555188           0.620052\n",
      "6    31   33000       -0.346176          -0.359526\n",
      "7    37   24000        0.280860          -0.547105\n",
      "8    46   36000        1.221414          -0.297000\n",
      "9    34   92000       -0.032658           0.870157\n",
      "10   21   23000       -1.391236          -0.567947\n",
      "11   26   19000       -0.868706          -0.651315\n",
      "12   36   25000        0.176354          -0.526263\n",
      "13   41   28000        0.698884          -0.463736\n",
      "14   49   32000        1.534932          -0.380368\n",
      "15   30   20000       -0.450682          -0.630473\n"
     ]
    }
   ],
   "source": [
    "#now, create 2 new columns on this df with the normalized values using z-score formula\n",
    "\n",
    "z_score_df[\"age_normalized\"] = (z_score_df[\"age\"] - z_score_df[\"age\"].mean()) / z_score_df[\"age\"].std()\n",
    "z_score_df[\"salary_normalized\"] = (z_score_df[\"salary\"] - z_score_df[\"salary\"].mean()) / z_score_df[\"salary\"].std()\n",
    "print(z_score_df)"
   ]
  },
  {
   "cell_type": "code",
   "execution_count": 16,
   "metadata": {},
   "outputs": [
    {
     "data": {
      "text/html": [
       "<div>\n",
       "<style scoped>\n",
       "    .dataframe tbody tr th:only-of-type {\n",
       "        vertical-align: middle;\n",
       "    }\n",
       "\n",
       "    .dataframe tbody tr th {\n",
       "        vertical-align: top;\n",
       "    }\n",
       "\n",
       "    .dataframe thead th {\n",
       "        text-align: right;\n",
       "    }\n",
       "</style>\n",
       "<table border=\"1\" class=\"dataframe\">\n",
       "  <thead>\n",
       "    <tr style=\"text-align: right;\">\n",
       "      <th></th>\n",
       "      <th>age</th>\n",
       "      <th>salary</th>\n",
       "      <th>age_normalized</th>\n",
       "      <th>salary_normalized</th>\n",
       "    </tr>\n",
       "  </thead>\n",
       "  <tbody>\n",
       "    <tr>\n",
       "      <th>count</th>\n",
       "      <td>16.00000</td>\n",
       "      <td>16.000000</td>\n",
       "      <td>1.600000e+01</td>\n",
       "      <td>1.600000e+01</td>\n",
       "    </tr>\n",
       "    <tr>\n",
       "      <th>mean</th>\n",
       "      <td>34.31250</td>\n",
       "      <td>50250.000000</td>\n",
       "      <td>3.469447e-18</td>\n",
       "      <td>2.775558e-17</td>\n",
       "    </tr>\n",
       "    <tr>\n",
       "      <th>std</th>\n",
       "      <td>9.56883</td>\n",
       "      <td>47979.856885</td>\n",
       "      <td>1.000000e+00</td>\n",
       "      <td>1.000000e+00</td>\n",
       "    </tr>\n",
       "    <tr>\n",
       "      <th>min</th>\n",
       "      <td>20.00000</td>\n",
       "      <td>19000.000000</td>\n",
       "      <td>-1.495742e+00</td>\n",
       "      <td>-6.513150e-01</td>\n",
       "    </tr>\n",
       "    <tr>\n",
       "      <th>25%</th>\n",
       "      <td>28.25000</td>\n",
       "      <td>22750.000000</td>\n",
       "      <td>-6.335676e-01</td>\n",
       "      <td>-5.731572e-01</td>\n",
       "    </tr>\n",
       "    <tr>\n",
       "      <th>50%</th>\n",
       "      <td>34.50000</td>\n",
       "      <td>30000.000000</td>\n",
       "      <td>1.959487e-02</td>\n",
       "      <td>-4.220521e-01</td>\n",
       "    </tr>\n",
       "    <tr>\n",
       "      <th>75%</th>\n",
       "      <td>41.25000</td>\n",
       "      <td>57500.000000</td>\n",
       "      <td>7.250103e-01</td>\n",
       "      <td>1.511051e-01</td>\n",
       "    </tr>\n",
       "    <tr>\n",
       "      <th>max</th>\n",
       "      <td>50.00000</td>\n",
       "      <td>200000.000000</td>\n",
       "      <td>1.639438e+00</td>\n",
       "      <td>3.121101e+00</td>\n",
       "    </tr>\n",
       "  </tbody>\n",
       "</table>\n",
       "</div>"
      ],
      "text/plain": [
       "            age         salary  age_normalized  salary_normalized\n",
       "count  16.00000      16.000000    1.600000e+01       1.600000e+01\n",
       "mean   34.31250   50250.000000    3.469447e-18       2.775558e-17\n",
       "std     9.56883   47979.856885    1.000000e+00       1.000000e+00\n",
       "min    20.00000   19000.000000   -1.495742e+00      -6.513150e-01\n",
       "25%    28.25000   22750.000000   -6.335676e-01      -5.731572e-01\n",
       "50%    34.50000   30000.000000    1.959487e-02      -4.220521e-01\n",
       "75%    41.25000   57500.000000    7.250103e-01       1.511051e-01\n",
       "max    50.00000  200000.000000    1.639438e+00       3.121101e+00"
      ]
     },
     "execution_count": 16,
     "metadata": {},
     "output_type": "execute_result"
    }
   ],
   "source": [
    "z_score_df.describe() #Call the .describe() method to print results"
   ]
  },
  {
   "cell_type": "markdown",
   "metadata": {},
   "source": [
    "Binning"
   ]
  },
  {
   "cell_type": "code",
   "execution_count": 17,
   "metadata": {},
   "outputs": [
    {
     "name": "stdout",
     "output_type": "stream",
     "text": [
      "[ 19000.          79333.33333333 139666.66666667 200000.        ]\n"
     ]
    }
   ],
   "source": [
    "import numpy as np\n",
    "\n",
    "bins = np.linspace(min(df[\"salary\"]), max(df[\"salary\"]),4)\n",
    "print(bins)"
   ]
  },
  {
   "cell_type": "code",
   "execution_count": 18,
   "metadata": {},
   "outputs": [
    {
     "name": "stdout",
     "output_type": "stream",
     "text": [
      "    age  salary   salaries_binned\n",
      "0    20   20000   lowest_salaries\n",
      "1    22   22000   lowest_salaries\n",
      "2    35  100000   medium_salaries\n",
      "3    42  200000  highest_salaries\n",
      "4    50   50000   lowest_salaries\n",
      "5    29   80000   medium_salaries\n",
      "6    31   33000   lowest_salaries\n",
      "7    37   24000   lowest_salaries\n",
      "8    46   36000   lowest_salaries\n",
      "9    34   92000   medium_salaries\n",
      "10   21   23000   lowest_salaries\n",
      "11   26   19000   lowest_salaries\n",
      "12   36   25000   lowest_salaries\n",
      "13   41   28000   lowest_salaries\n",
      "14   49   32000   lowest_salaries\n",
      "15   30   20000   lowest_salaries\n"
     ]
    }
   ],
   "source": [
    "salaries_grouped = ['lowest_salaries', 'medium_salaries', 'highest_salaries']\n",
    "df[\"salaries_binned\"] = pd.cut(df[\"salary\"], bins, labels = salaries_grouped, include_lowest = True)\n",
    "print(df)"
   ]
  },
  {
   "cell_type": "code",
   "execution_count": 26,
   "metadata": {},
   "outputs": [
    {
     "name": "stdout",
     "output_type": "stream",
     "text": [
      "    age  salary   salaries_binned ages_binned\n",
      "0    20   20000   lowest_salaries    20 to 29\n",
      "1    22   22000   lowest_salaries    20 to 29\n",
      "2    35  100000   medium_salaries    30 to 39\n",
      "3    42  200000  highest_salaries    40 to 49\n",
      "4    50   50000   lowest_salaries         50+\n",
      "5    29   80000   medium_salaries    20 to 29\n",
      "6    31   33000   lowest_salaries    30 to 39\n",
      "7    37   24000   lowest_salaries    30 to 39\n",
      "8    46   36000   lowest_salaries    40 to 49\n",
      "9    34   92000   medium_salaries    30 to 39\n",
      "10   21   23000   lowest_salaries    20 to 29\n",
      "11   26   19000   lowest_salaries    20 to 29\n",
      "12   36   25000   lowest_salaries    30 to 39\n",
      "13   41   28000   lowest_salaries    40 to 49\n",
      "14   49   32000   lowest_salaries    40 to 49\n",
      "15   30   20000   lowest_salaries    30 to 39\n"
     ]
    }
   ],
   "source": [
    "ages_grouped = ['20 to 29', '30 to 39', '40 to 49', '50+']\n",
    "age_bins = [min(df[\"age\"]), 29, 39, 49, max(df[\"age\"])]\n",
    "df[\"ages_binned\"] = pd.cut(df[\"age\"], age_bins, labels = ages_grouped, include_lowest = True)\n",
    "print(df)"
   ]
  },
  {
   "cell_type": "code",
   "execution_count": 27,
   "metadata": {},
   "outputs": [
    {
     "data": {
      "text/plain": [
       "array([[<AxesSubplot:title={'center':'age'}>,\n",
       "        <AxesSubplot:title={'center':'salary'}>]], dtype=object)"
      ]
     },
     "execution_count": 27,
     "metadata": {},
     "output_type": "execute_result"
    },
    {
     "data": {
      "image/png": "[encoded data removed]",
      "text/plain": [
       "<Figure size 432x288 with 2 Axes>"
      ]
     },
     "metadata": {
      "needs_background": "light"
     },
     "output_type": "display_data"
    }
   ],
   "source": [
    "df.hist()"
   ]
  },
  {
   "cell_type": "code",
   "execution_count": null,
   "metadata": {},
   "outputs": [],
   "source": []
  }
 ],
 "metadata": {
  "kernelspec": {
   "display_name": "Python 3",
   "language": "python",
   "name": "python3"
  },
  "language_info": {
   "codemirror_mode": {
    "name": "ipython",
    "version": 3
   },
   "file_extension": ".py",
   "mimetype": "text/x-python",
   "name": "python",
   "nbconvert_exporter": "python",
   "pygments_lexer": "ipython3",
   "version": "3.8.5"
  }
 },
 "nbformat": 4,
 "nbformat_minor": 4
}
